{
  "nbformat": 4,
  "nbformat_minor": 0,
  "metadata": {
    "colab": {
      "name": "tradingStrategy.ipynb",
      "provenance": [],
      "collapsed_sections": [],
      "authorship_tag": "ABX9TyOj7pM2saXMaWvuPE4b7LWR",
      "include_colab_link": true
    },
    "kernelspec": {
      "name": "python3",
      "display_name": "Python 3"
    }
  },
  "cells": [
    {
      "cell_type": "markdown",
      "metadata": {
        "id": "view-in-github",
        "colab_type": "text"
      },
      "source": [
        "<a href=\"https://colab.research.google.com/github/daehkim/pair-trading/blob/master/tradingStrategy.ipynb\" target=\"_parent\"><img src=\"https://colab.research.google.com/assets/colab-badge.svg\" alt=\"Open In Colab\"/></a>"
      ]
    },
    {
      "cell_type": "markdown",
      "metadata": {
        "id": "g1kEvmH7rToY",
        "colab_type": "text"
      },
      "source": [
        "# CS7641 Machine Learning\n",
        "*Application of Machine Learning in Pairs Trading*"
      ]
    },
    {
      "cell_type": "markdown",
      "metadata": {
        "id": "Mth172sjsZ9f",
        "colab_type": "text"
      },
      "source": [
        "## Generate the spread funtion (price pair's relation)\n",
        "We will find the function of spread in here. The basic function of spread is defined as blow:\n",
        "\n",
        "$Spread = log(a) - nlog(b)$\n",
        "\n",
        "where the 'a' and 'b' are prices of stocks A and B respectively and the 'n' is hedge ratio. Our target is finding dynamics of spread based on the machine learning. We will use the supervised machine learning to implement this part and the possible candidates are 'linear regression' and 'support vector machine (SVM)'"
      ]
    },
    {
      "cell_type": "code",
      "metadata": {
        "id": "xSowbJUuVXez",
        "colab_type": "code",
        "colab": {}
      },
      "source": [
        "def gen_spread_function(a, b, start_t, end_t, alg='basic'):\n",
        "    \"\"\"\n",
        "    * Input\n",
        "        - a, b: Stock A and B's price history\n",
        "        - start_t, end_t: start/end time of the analysis on the data. \n",
        "            They use the same unit with the data. For example, 0 means the \n",
        "            first data of the a and b. \n",
        "            (Analyze the data from a[start_t], b[start_t] to a[end_t], \n",
        "            b[end_t])\n",
        "        - alg: Type of algorithm. The 'basic' means the log normalization\n",
        "    * Output\n",
        "        - The function of spread\n",
        "    * Function\n",
        "        - Apply the supervised machine learning to find the dynamics of\n",
        "        spread\n",
        "    \"\"\"\n",
        "    pass"
      ],
      "execution_count": 0,
      "outputs": []
    },
    {
      "cell_type": "code",
      "metadata": {
        "id": "W8sFzlpFVx2M",
        "colab_type": "code",
        "colab": {}
      },
      "source": [
        "# Code verification\n"
      ],
      "execution_count": 0,
      "outputs": []
    },
    {
      "cell_type": "markdown",
      "metadata": {
        "id": "4ckheTCYVGDM",
        "colab_type": "text"
      },
      "source": [
        "\n",
        "## Generate the z-score\n",
        "The z-score should be calculated based on the spread function.\n",
        "The input is the stock pair and the function of spread.\n",
        "Output will be the z-score.\n",
        "* Input: stock pair's present price\n",
        "* Output: z-score\n",
        "* Function: calculate the z-score based on the spread function\n"
      ]
    },
    {
      "cell_type": "code",
      "metadata": {
        "id": "M4FfBUBFVteG",
        "colab_type": "code",
        "colab": {}
      },
      "source": [
        "def gen_z_score():\n",
        "    pass"
      ],
      "execution_count": 0,
      "outputs": []
    },
    {
      "cell_type": "code",
      "metadata": {
        "id": "x1c8ulSUYbTx",
        "colab_type": "code",
        "colab": {}
      },
      "source": [
        "# Code verification"
      ],
      "execution_count": 0,
      "outputs": []
    },
    {
      "cell_type": "markdown",
      "metadata": {
        "id": "fA_puK5iWzg7",
        "colab_type": "text"
      },
      "source": [
        "## Generate the z-score matrix\n",
        "Generate the z-score matrix based on the 'gen_z_score()' function.\n",
        "It will be used for our strategy to deciding how much stocks we will buy/sell.\n",
        "* Input: stock pairs list, stock's present price\n",
        "* Output: z-score matrix\n",
        "* Function: calculate the z-scores in the stock pairs list and generate the matrix about z-score"
      ]
    },
    {
      "cell_type": "code",
      "metadata": {
        "id": "rKiRPwPqXPsD",
        "colab_type": "code",
        "colab": {}
      },
      "source": [
        "def gen_z_score_matrix():\n",
        "    pass"
      ],
      "execution_count": 0,
      "outputs": []
    },
    {
      "cell_type": "code",
      "metadata": {
        "id": "mc1dsp2rYdYV",
        "colab_type": "code",
        "colab": {}
      },
      "source": [
        "# Code verification"
      ],
      "execution_count": 0,
      "outputs": []
    },
    {
      "cell_type": "markdown",
      "metadata": {
        "id": "v7i3PIq0VHYX",
        "colab_type": "text"
      },
      "source": [
        "\n",
        "## Generate buy/sell the stock matrix\n",
        "Based on the z-score matrix, we need to decide which stocks to by and which stocks to sell. We will buy the stock if the z-score is above certain point. (Ex. 2-sigma) It will be the argument. In the same way, if the z-score reaches below the certain point, we will sell the stock. (Ex. 0) We also need to care about when the pair of stocks shows the unusual behavior. When we buy at the 2-sigma and if it reaches the 3-sigma, we should sell the stock to stop the loss. \n",
        "* Input: entry point, stop loss point, take profit point, commission for trade, z-score matrix\n",
        "* Output: buy matrix, sell matrix (each component is amount of stock we will buy/sell)\n",
        "* Function: decide our action based on the z-score matrix"
      ]
    },
    {
      "cell_type": "code",
      "metadata": {
        "id": "9GX3uU12vcxC",
        "colab_type": "code",
        "colab": {}
      },
      "source": [
        "def gen_action_matrix():\n",
        "    pass"
      ],
      "execution_count": 0,
      "outputs": []
    },
    {
      "cell_type": "code",
      "metadata": {
        "id": "24NbVwAJYexE",
        "colab_type": "code",
        "colab": {}
      },
      "source": [
        "# Code verification"
      ],
      "execution_count": 0,
      "outputs": []
    }
  ]
}